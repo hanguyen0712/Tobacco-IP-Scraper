{
 "cells": [
  {
   "cell_type": "code",
   "execution_count": 2,
   "metadata": {
    "collapsed": true
   },
   "outputs": [],
   "source": [
    "#import libraries\n",
    "import pandas as pd\n",
    "import numpy as np\n",
    "import requests\n",
    "from bs4 import BeautifulSoup\n",
    "import json\n",
    "from pandas.io.json import json_normalize\n",
    "import http.cookiejar as jar\n",
    "import urllib.request as urlreq"
   ]
  },
  {
   "cell_type": "code",
   "execution_count": 3,
   "metadata": {
    "collapsed": true
   },
   "outputs": [],
   "source": [
    "#open html file \n",
    "html_file = open(\"html_raw.txt\", \"wb\")"
   ]
  },
  {
   "cell_type": "code",
   "execution_count": 29,
   "metadata": {},
   "outputs": [
    {
     "name": "stdout",
     "output_type": "stream",
     "text": [
      "<table border=\"0\" cellpadding=\"1\" width=\"100%\">\n",
      "<tr>\n",
      "<td height=\"32\" width=\"6%\"><table bgcolor=\"22ADE7\" border=\"0\" cellpadding=\"0\" cellspacing=\"1\" height=\"32\" width=\"100%\">\n",
      "<tr><td align=\"center\" background=\"../Images/box_bgr.gif\" bgcolor=\"#FFFFFF\" class=\"text\">INID</td></tr></table>\n",
      "</td>\n",
      "<td height=\"32\" width=\"24%\"><table bgcolor=\"22ADE7\" border=\"0\" cellpadding=\"0\" cellspacing=\"1\" height=\"32\" width=\"100%\">\n",
      "<tr><td align=\"center\" background=\"../Images/box_bgr.gif\" bgcolor=\"#FFFFFF\" class=\"text\">FIELD</td></tr></table>\n",
      "</td>\n",
      "<td height=\"70%\"><table bgcolor=\"22ADE7\" border=\"0\" cellpadding=\"0\" cellspacing=\"1\" height=\"32\" width=\"100%\">\n",
      "<tr><td align=\"center\" background=\"../Images/box_bgr.gif\" bgcolor=\"#FFFFFF\" class=\"text\">CONTENT</td></tr></table>\n",
      "</td>\n",
      "</tr>\n",
      "<tr>\n",
      "<td align=\"center\" class=\"jcGridCell\" width=\"6%\">(210)</td>\n",
      "<td class=\"jcGridCell\" width=\"24%\">APP. NUMBER </td>\n",
      "<td class=\"jcGridCell\" width=\"70%\">4-2015-00658</td>\n",
      "</tr>\n",
      "<tr>\n",
      "<td align=\"center\" class=\"jcGridCell\" width=\"6%\">(220)</td>\n",
      "<td class=\"jcGridCell\" width=\"24%\">APP. DATE </td>\n",
      "<td class=\"jcGridCell\" width=\"70%\">12/01/2015</td>\n",
      "</tr>\n",
      "<tr>\n",
      "<td align=\"center\" class=\"jcGridCell\" width=\"6%\">(300)</td>\n",
      "<td class=\"jcGridCell\" width=\"24%\">PRIORITY DATE</td>\n",
      "<td class=\"jcGridCell\" width=\"70%\"></td>\n",
      "</tr>\n",
      "<tr>\n",
      "<td align=\"center\" class=\"jcGridCell\" width=\"6%\">(540)</td>\n",
      "<td class=\"jcGridCell\" width=\"24%\">TRADE MARK</td>\n",
      "<td class=\"jcGridCell\" width=\"70%\"> Malimbo</td>\n",
      "</tr>\n",
      "<tr>\n",
      "<td align=\"center\" class=\"jcGridCell\" width=\"6%\"></td>\n",
      "<td class=\"jcGridCell\" width=\"24%\"> </td>\n",
      "<td class=\"jcGridCell\" width=\"70%\"><a href=\"javascript:var strImage; strImage='http://iplib.noip.gov.vn//IPDLIMG/20151/31338321Pictu001.bmp';\tOpenWindow('WViewImageDetailTRM.php?ImgURL=' + strImage,'WListSaveQuery',700, 500, 200, 100);\">\n",
      "<img border=\"0\" src=\"http://iplib.noip.gov.vn//IPDLIMG/20151/31338321Pictu001.bmp\" width=\"150\"/></a></td>\n",
      "</tr>\n",
      "<tr>\n",
      "<td align=\"center\" class=\"jcGridCell\" width=\"6%\"></td>\n",
      "<td class=\"jcGridCell\" width=\"24%\">TM TYPE</td>\n",
      "<td class=\"jcGridCell\" width=\"70%\">Normal</td>\n",
      "</tr>\n",
      "<tr>\n",
      "<td class=\"jcGridCell\" width=\"6%\"></td>\n",
      "<td class=\"jcGridCell\" width=\"24%\">TM COLOR</td>\n",
      "<td class=\"jcGridCell\" width=\"70%\">0</td>\n",
      "</tr>\n",
      "<tr class=\"jcGridCell\">\n",
      "<td align=\"center\" valign=\"top\" width=\"6%\">(511) </td>\n",
      "<td valign=\"top\" width=\"24%\">GOODS / SERVICES</td>\n",
      "<td valign=\"top\" width=\"70%\">34 Thuá»c lÃ¡ Äiáº¿u.<br/></td>\n",
      "</tr>\n",
      "<tr>\n",
      "<td align=\"center\" class=\"jcGridCell\" valign=\"top\" width=\"6%\">(731) / (732)</td>\n",
      "<td class=\"jcGridCell\" valign=\"top\" width=\"24%\">APPLICANT / RIGHT HOLDER </td>\n",
      "<td class=\"jcGridCell\" valign=\"top\" width=\"705\">CÃ´ng ty trÃ¡ch nhiá»m há»¯u háº¡n HÆ°ng Hiá»p PhÃ¡t  </td>\n",
      "</tr>\n",
      "<tr class=\"jcGridCell\">\n",
      "<td> </td>\n",
      "<td valign=\"top\">APPLICANT ADDRESS</td>\n",
      "<td><table cellpadding=\"2\" cellspacing=\"0\" width=\"100%\">\n",
      "<tr class=\"jcGridCell\">\n",
      "<td valign=\"top\" width=\"711\">Sá» 62, áº¥p Long HÃ²a 1, xÃ£ Long Chá»¯, huyá»n Báº¿n Cáº§u, tá»nh TÃ¢y Ninh  </td>\n",
      "<td> </td>\n",
      "</tr>\n",
      "</table></td>\n",
      "</tr>\n",
      "<tr class=\"jcGridCell\">\n",
      "<td align=\"center\" width=\"6%\"></td>\n",
      "<td valign=\"top\" width=\"24%\">CHUKAN CODE</td>\n",
      "<td width=\"70%\">\r\n",
      "              (10/02/2015) 221: Notification for Acceptance of Application<br/>\r\n",
      "              (30/09/2016) 243: Notification on Substantive Examination Result (Refusal)<br/>\r\n",
      "              (13/12/2016) 256: Decision of Refusal (no response)<br/>\n",
      "</td>\n",
      "</tr>\n",
      "</table>\n"
     ]
    }
   ],
   "source": [
    "#scrape information \n",
    "headers = requests.utils.default_headers()\n",
    "headers.update({'User-Agent': 'Mozilla/5.0 (X11; Ubuntu; Linux x86_64; rv:52.0) Gecko/20100101 Firefox/52.0'})\n",
    "cookies = {'HIM_on_off':'0', \n",
    "           'HIM_method':'0', \n",
    "           'HIM_ckspell':'1', \n",
    "           'HIM_daucu': '1', \n",
    "           'QueryValue':'AND%24AND%24AND%24%7C%24%24%24%7CNC%24AD%24GS%24%7C%3D%24%3E%3D%24%3D%24%7C34%2401/01/2015%24%22thu%u1ED1c%20l%E1%20%u0111i%u1EBFu%22%24%7C%24%24%24%7C', \n",
    "           'QueryValue1':'%20%24AND%24AND%24AND%24%7C%24%24%24%24%7CTN%24NC%24AD%24GS%24%7C%3D%24%3D%24%3E%3D%24%3D%24%7C%2434%2401/01/2015%24%22thu%u1ED1c%20l%E1%20%u0111i%u1EBFu%22%24%7C%24%24%24%24%7C', \n",
    "           '__utmz':'71677259.1560947615.1.1.utmcsr=(direct)|utmccn=(direct)|utmcmd=(none)', \n",
    "           'D0N':'8909c95c9339d069ac1610fae63ead0a', \n",
    "           'PHPSESSID':'47c88fddf31534b2f3d96d440659db4f', \n",
    "           '__utmc':'71677259', \n",
    "           '__utma':'71677259.1625309631.1560947615.1561605831.1561608127.8', \n",
    "           '__utmb':'71677259.16.10.1561636111', \n",
    "           '__utmt':'1'}\n",
    "for i in range(1, 1283):\n",
    "    web = requests.get(\"http://iplib.noip.gov.vn/WebUI/WDetail.php?intRecNum={}\".format(i), cookies = cookies, headers = headers).text\n",
    "    soup = BeautifulSoup(web, 'html.parser')\n",
    "    forms = soup.find_all('form')[1].find_all('table')[3]\n",
    "    print(forms)\n",
    "    html_file.write(forms.encode(\"utf8\"))\n",
    "    html_file.flush()"
   ]
  },
  {
   "cell_type": "code",
   "execution_count": null,
   "metadata": {
    "collapsed": true
   },
   "outputs": [],
   "source": [
    "\n",
    "file.close()"
   ]
  }
 ],
 "metadata": {
  "kernelspec": {
   "display_name": "Python 3",
   "language": "python",
   "name": "python3"
  },
  "language_info": {
   "codemirror_mode": {
    "name": "ipython",
    "version": 3
   },
   "file_extension": ".py",
   "mimetype": "text/x-python",
   "name": "python",
   "nbconvert_exporter": "python",
   "pygments_lexer": "ipython3",
   "version": "3.6.7"
  }
 },
 "nbformat": 4,
 "nbformat_minor": 2
}
