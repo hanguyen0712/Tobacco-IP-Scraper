{
 "cells": [
  {
   "cell_type": "code",
   "execution_count": 19,
   "metadata": {
    "collapsed": true
   },
   "outputs": [],
   "source": [
    "import pandas as pd\n",
    "import numpy as np\n",
    "import matplotlib as mpl\n",
    "from matplotlib import pyplot as plt\n",
    "import seaborn\n",
    "from datetime import datetime\n",
    "from matplotlib.pyplot import figure"
   ]
  },
  {
   "cell_type": "markdown",
   "metadata": {},
   "source": [
    "## Data we would like to collect"
   ]
  },
  {
   "cell_type": "markdown",
   "metadata": {},
   "source": [
    "1. Number of entries from each company in each year + proportion\n",
    "2. Graph changes in the number of entries for each company by month\n",
    "3. Number of denied/in process/approved from each company in each year + proportion\n",
    "4. Number of Tm color from each company\n",
    "5. Proportion of product type from each company"
   ]
  },
  {
   "cell_type": "markdown",
   "metadata": {},
   "source": [
    "## Summary statistics for all the data we have "
   ]
  },
  {
   "cell_type": "code",
   "execution_count": 20,
   "metadata": {
    "collapsed": true
   },
   "outputs": [
    {
     "data": {
      "text/plain": [
       "1282"
      ]
     },
     "execution_count": 20,
     "metadata": {},
     "output_type": "execute_result"
    }
   ],
   "source": [
    "#read the big dataframe\n",
    "df = pd.read_excel('Everything_no_macro.xlsx', 0)\n",
    "len(df)"
   ]
  },
  {
   "cell_type": "code",
   "execution_count": 21,
   "metadata": {
    "collapsed": true
   },
   "outputs": [],
   "source": [
    "#convert the app date to datetime format (for ease of grouping and graphing)\n",
    "df['APP. DATE'] = pd.to_datetime(df['APP. DATE'])"
   ]
  },
  {
   "cell_type": "code",
   "execution_count": 22,
   "metadata": {
    "collapsed": true
   },
   "outputs": [
    {
     "data": {
      "text/plain": [
       "APP. DATE\n",
       "2015    224\n",
       "2016    225\n",
       "2017    383\n",
       "2018    410\n",
       "2019     40\n",
       "Name: TRADE MARK, dtype: int64"
      ]
     },
     "execution_count": 22,
     "metadata": {},
     "output_type": "execute_result"
    }
   ],
   "source": [
    "#total number of entries in each year\n",
    "sumall = df.groupby(df['APP. DATE'].dt.strftime('%Y'))['TRADE MARK'].count()\n",
    "sumall"
   ]
  },
  {
   "cell_type": "markdown",
   "metadata": {},
   "source": [
    "#### Comment:<br>\n",
    "Overall, the total number of entries increased throughout the years from 2015 to 2018. 2019 has not ended yet, so we cannot say anything about this year."
   ]
  },
  {
   "cell_type": "code",
   "execution_count": 40,
   "metadata": {},
   "outputs": [
    {
     "data": {
      "image/png": "[encoded data removed]",
      "text/plain": [
       "<Figure size 576x396 with 1 Axes>"
      ]
     },
     "metadata": {},
     "output_type": "display_data"
    }
   ],
   "source": [
    "#plot the number of entries in each month\n",
    "#dg = df.groupby(pd.Grouper(key='APP. DATE', freq='1M')).sum() # groupby each 1 month\n",
    "dg = pd.DataFrame()\n",
    "dg = df.groupby(pd.Grouper(key='APP. DATE', freq='1M'))['APP. NUMBER'].count()\n",
    "dg.index = dg.index.strftime('%b %y')\n",
    "#dg.columns = ['Count']\n",
    "dg.plot(kind = 'bar')\n",
    "plt.ylabel('Number of entries')\n",
    "plt.xlabel('Month')\n",
    "plt.title('Total number of cigarette-related trademarks by month')\n",
    "plt.show()"
   ]
  },
  {
   "cell_type": "code",
   "execution_count": 24,
   "metadata": {},
   "outputs": [
    {
     "data": {
      "text/plain": [
       "array(['Normal'], dtype=object)"
      ]
     },
     "execution_count": 24,
     "metadata": {},
     "output_type": "execute_result"
    }
   ],
   "source": [
    "#check TM type\n",
    "df['TM TYPE'].unique()"
   ]
  },
  {
   "cell_type": "markdown",
   "metadata": {},
   "source": [
    "All entries are of Normal type."
   ]
  },
  {
   "cell_type": "markdown",
   "metadata": {},
   "source": [
    "## Summary statistics for each company"
   ]
  },
  {
   "cell_type": "code",
   "execution_count": 25,
   "metadata": {
    "collapsed": true,
    "scrolled": true
   },
   "outputs": [],
   "source": [
    "#read the BAT dataframe\n",
    "pmi = pd.read_excel('Data Table Filled_030719_with_image.xlsx', 0)\n",
    "bat = pd.read_excel('Data Table Filled_030719_with_image.xlsx', 1)\n",
    "jti = pd.read_excel('Data Table Filled_030719_with_image.xlsx', 2)\n",
    "frames = [pmi,bat, jti]\n",
    "#convert the app date to datetime format (for ease of grouping and graphing)\n",
    "for frame in frames:\n",
    "    frame['APP. DATE'] = pd.to_datetime(frame['APP. DATE'])"
   ]
  },
  {
   "cell_type": "code",
   "execution_count": 26,
   "metadata": {
    "collapsed": true
   },
   "outputs": [
    {
     "data": {
      "text/html": [
       "<div>\n",
       "<style>\n",
       "    .dataframe thead tr:only-child th {\n",
       "        text-align: right;\n",
       "    }\n",
       "\n",
       "    .dataframe thead th {\n",
       "        text-align: left;\n",
       "    }\n",
       "\n",
       "    .dataframe tbody tr th {\n",
       "        vertical-align: top;\n",
       "    }\n",
       "</style>\n",
       "<table border=\"1\" class=\"dataframe\">\n",
       "  <thead>\n",
       "    <tr style=\"text-align: right;\">\n",
       "      <th></th>\n",
       "      <th># PMI trademarks</th>\n",
       "      <th># BAT trademarks</th>\n",
       "      <th># JTI trademarks</th>\n",
       "    </tr>\n",
       "    <tr>\n",
       "      <th>APP. DATE</th>\n",
       "      <th></th>\n",
       "      <th></th>\n",
       "      <th></th>\n",
       "    </tr>\n",
       "  </thead>\n",
       "  <tbody>\n",
       "    <tr>\n",
       "      <th>2015</th>\n",
       "      <td>5</td>\n",
       "      <td>45.0</td>\n",
       "      <td>3.0</td>\n",
       "    </tr>\n",
       "    <tr>\n",
       "      <th>2016</th>\n",
       "      <td>53</td>\n",
       "      <td>12.0</td>\n",
       "      <td>2.0</td>\n",
       "    </tr>\n",
       "    <tr>\n",
       "      <th>2017</th>\n",
       "      <td>19</td>\n",
       "      <td>12.0</td>\n",
       "      <td>2.0</td>\n",
       "    </tr>\n",
       "    <tr>\n",
       "      <th>2018</th>\n",
       "      <td>12</td>\n",
       "      <td>10.0</td>\n",
       "      <td>3.0</td>\n",
       "    </tr>\n",
       "    <tr>\n",
       "      <th>2019</th>\n",
       "      <td>1</td>\n",
       "      <td>NaN</td>\n",
       "      <td>NaN</td>\n",
       "    </tr>\n",
       "  </tbody>\n",
       "</table>\n",
       "</div>"
      ],
      "text/plain": [
       "           # PMI trademarks  # BAT trademarks  # JTI trademarks\n",
       "APP. DATE                                                      \n",
       "2015                      5              45.0               3.0\n",
       "2016                     53              12.0               2.0\n",
       "2017                     19              12.0               2.0\n",
       "2018                     12              10.0               3.0\n",
       "2019                      1               NaN               NaN"
      ]
     },
     "execution_count": 26,
     "metadata": {},
     "output_type": "execute_result"
    }
   ],
   "source": [
    "#total number of entries in each year\n",
    "sumentry = pd.DataFrame()\n",
    "index = 0\n",
    "for frame in frames:\n",
    "    sumentry[index] = frame.groupby(frame['APP. DATE'].dt.strftime('%Y'))['TRADE MARK'].count()\n",
    "    index += 1\n",
    "    \n",
    "sumentry.columns = ['# PMI trademarks','# BAT trademarks', '# JTI trademarks']\n",
    "sumentry"
   ]
  },
  {
   "cell_type": "code",
   "execution_count": 27,
   "metadata": {
    "collapsed": true
   },
   "outputs": [
    {
     "name": "stdout",
     "output_type": "stream",
     "text": [
      "APPLICANT / RIGHT HOLDER\n",
      "Philip Morris (Pakistan) Limited      1\n",
      "Philip Morris Brands Sàrl            58\n",
      "Philip Morris Products S.A.          28\n",
      "VINATABA - PHILIP MORRIS Co. Ltd,     3\n",
      "Name: APPLICANT / RIGHT HOLDER, dtype: int64\n",
      "APPLICANT / RIGHT HOLDER\n",
      "British American Tobacco (Brands) Inc.       32\n",
      "British American Tobacco (Brands) Limited    27\n",
      "British American Tobacco (Germany) GmbH       1\n",
      "CTBAT International Co. Limited              19\n",
      "Name: APPLICANT / RIGHT HOLDER, dtype: int64\n",
      "APPLICANT / RIGHT HOLDER\n",
      "Japan Tobacco Inc.    10\n",
      "Name: APPLICANT / RIGHT HOLDER, dtype: int64\n"
     ]
    }
   ],
   "source": [
    "#number of trademarks from each branch of the company\n",
    "#bat['APPLICANT / RIGHT HOLDER'].unique().count_values()\n",
    "for frame in frames:\n",
    "    print(frame.groupby('APPLICANT / RIGHT HOLDER')['APPLICANT / RIGHT HOLDER'].count())"
   ]
  },
  {
   "cell_type": "code",
   "execution_count": 28,
   "metadata": {
    "collapsed": true
   },
   "outputs": [
    {
     "data": {
      "image/png": "[encoded data removed]",
      "text/plain": [
       "<Figure size 576x396 with 1 Axes>"
      ]
     },
     "metadata": {},
     "output_type": "display_data"
    }
   ],
   "source": [
    "#plot the number of entries in each month\n",
    "group_by_month = pd.DataFrame()\n",
    "counter = 0\n",
    "for frame in frames:\n",
    "    group_by_month[counter] = frame.groupby(pd.Grouper(key='APP. DATE', freq='1M'))['APP. NUMBER'].count() # groupby each 1 month\n",
    "    counter += 1\n",
    "group_by_month.columns = ['PMI','BAT', 'JTI']\n",
    "\n",
    "group_by_month.index = group_by_month.index.strftime('%b %y')\n",
    "group_by_month.plot(kind = 'bar', width = 1)\n",
    "plt.ylabel('Number of entries')\n",
    "plt.xlabel('Month')\n",
    "plt.title('Number of trademarks from each company by month')\n",
    "plt.show()\n"
   ]
  },
  {
   "cell_type": "code",
   "execution_count": 29,
   "metadata": {},
   "outputs": [
    {
     "data": {
      "text/html": [
       "<div>\n",
       "<style>\n",
       "    .dataframe thead tr:only-child th {\n",
       "        text-align: right;\n",
       "    }\n",
       "\n",
       "    .dataframe thead th {\n",
       "        text-align: left;\n",
       "    }\n",
       "\n",
       "    .dataframe tbody tr th {\n",
       "        vertical-align: top;\n",
       "    }\n",
       "</style>\n",
       "<table border=\"1\" class=\"dataframe\">\n",
       "  <thead>\n",
       "    <tr style=\"text-align: right;\">\n",
       "      <th></th>\n",
       "      <th>PMI</th>\n",
       "      <th>%</th>\n",
       "      <th>BAT</th>\n",
       "      <th>%</th>\n",
       "      <th>JPI</th>\n",
       "      <th>%</th>\n",
       "    </tr>\n",
       "    <tr>\n",
       "      <th>Status</th>\n",
       "      <th></th>\n",
       "      <th></th>\n",
       "      <th></th>\n",
       "      <th></th>\n",
       "      <th></th>\n",
       "      <th></th>\n",
       "    </tr>\n",
       "  </thead>\n",
       "  <tbody>\n",
       "    <tr>\n",
       "      <th>0</th>\n",
       "      <td>9</td>\n",
       "      <td>10.0</td>\n",
       "      <td>18</td>\n",
       "      <td>22.8</td>\n",
       "      <td>1</td>\n",
       "      <td>10.0</td>\n",
       "    </tr>\n",
       "    <tr>\n",
       "      <th>1</th>\n",
       "      <td>35</td>\n",
       "      <td>38.9</td>\n",
       "      <td>21</td>\n",
       "      <td>26.6</td>\n",
       "      <td>5</td>\n",
       "      <td>50.0</td>\n",
       "    </tr>\n",
       "    <tr>\n",
       "      <th>2</th>\n",
       "      <td>46</td>\n",
       "      <td>51.1</td>\n",
       "      <td>40</td>\n",
       "      <td>50.6</td>\n",
       "      <td>4</td>\n",
       "      <td>40.0</td>\n",
       "    </tr>\n",
       "  </tbody>\n",
       "</table>\n",
       "</div>"
      ],
      "text/plain": [
       "        PMI     %  BAT     %  JPI     %\n",
       "Status                                 \n",
       "0         9  10.0   18  22.8    1  10.0\n",
       "1        35  38.9   21  26.6    5  50.0\n",
       "2        46  51.1   40  50.6    4  40.0"
      ]
     },
     "execution_count": 29,
     "metadata": {},
     "output_type": "execute_result"
    }
   ],
   "source": [
    "#number of total denied/approved entries\n",
    "status = pd.DataFrame()\n",
    "counter = 0\n",
    "for frame in frames:\n",
    "    status[counter] = frame.groupby('Status')['TRADE MARK'].count()\n",
    "    status[counter + 1] = round(status[counter]/len(frame) * 100, 1)\n",
    "    counter += 2\n",
    "status.columns = ['PMI', '%', 'BAT', '%', 'JPI', '%']\n",
    "status"
   ]
  },
  {
   "cell_type": "code",
   "execution_count": 30,
   "metadata": {
    "scrolled": true
   },
   "outputs": [
    {
     "data": {
      "text/html": [
       "<div>\n",
       "<style>\n",
       "    .dataframe thead tr:only-child th {\n",
       "        text-align: right;\n",
       "    }\n",
       "\n",
       "    .dataframe thead th {\n",
       "        text-align: left;\n",
       "    }\n",
       "\n",
       "    .dataframe tbody tr th {\n",
       "        vertical-align: top;\n",
       "    }\n",
       "</style>\n",
       "<table border=\"1\" class=\"dataframe\">\n",
       "  <thead>\n",
       "    <tr style=\"text-align: right;\">\n",
       "      <th></th>\n",
       "      <th></th>\n",
       "      <th>PMI</th>\n",
       "      <th>BAT</th>\n",
       "      <th>JTI</th>\n",
       "    </tr>\n",
       "    <tr>\n",
       "      <th>APP. DATE</th>\n",
       "      <th>Status</th>\n",
       "      <th></th>\n",
       "      <th></th>\n",
       "      <th></th>\n",
       "    </tr>\n",
       "  </thead>\n",
       "  <tbody>\n",
       "    <tr>\n",
       "      <th rowspan=\"3\" valign=\"top\">2015</th>\n",
       "      <th>0</th>\n",
       "      <td>3</td>\n",
       "      <td>13.0</td>\n",
       "      <td>1.0</td>\n",
       "    </tr>\n",
       "    <tr>\n",
       "      <th>1</th>\n",
       "      <td>1</td>\n",
       "      <td>NaN</td>\n",
       "      <td>NaN</td>\n",
       "    </tr>\n",
       "    <tr>\n",
       "      <th>2</th>\n",
       "      <td>1</td>\n",
       "      <td>32.0</td>\n",
       "      <td>2.0</td>\n",
       "    </tr>\n",
       "    <tr>\n",
       "      <th rowspan=\"3\" valign=\"top\">2016</th>\n",
       "      <th>0</th>\n",
       "      <td>4</td>\n",
       "      <td>4.0</td>\n",
       "      <td>NaN</td>\n",
       "    </tr>\n",
       "    <tr>\n",
       "      <th>1</th>\n",
       "      <td>6</td>\n",
       "      <td>1.0</td>\n",
       "      <td>NaN</td>\n",
       "    </tr>\n",
       "    <tr>\n",
       "      <th>2</th>\n",
       "      <td>43</td>\n",
       "      <td>7.0</td>\n",
       "      <td>2.0</td>\n",
       "    </tr>\n",
       "    <tr>\n",
       "      <th rowspan=\"3\" valign=\"top\">2017</th>\n",
       "      <th>0</th>\n",
       "      <td>2</td>\n",
       "      <td>NaN</td>\n",
       "      <td>NaN</td>\n",
       "    </tr>\n",
       "    <tr>\n",
       "      <th>1</th>\n",
       "      <td>15</td>\n",
       "      <td>11.0</td>\n",
       "      <td>2.0</td>\n",
       "    </tr>\n",
       "    <tr>\n",
       "      <th>2</th>\n",
       "      <td>2</td>\n",
       "      <td>1.0</td>\n",
       "      <td>NaN</td>\n",
       "    </tr>\n",
       "    <tr>\n",
       "      <th>2018</th>\n",
       "      <th>1</th>\n",
       "      <td>12</td>\n",
       "      <td>9.0</td>\n",
       "      <td>3.0</td>\n",
       "    </tr>\n",
       "    <tr>\n",
       "      <th>2019</th>\n",
       "      <th>1</th>\n",
       "      <td>1</td>\n",
       "      <td>NaN</td>\n",
       "      <td>NaN</td>\n",
       "    </tr>\n",
       "  </tbody>\n",
       "</table>\n",
       "</div>"
      ],
      "text/plain": [
       "                  PMI   BAT  JTI\n",
       "APP. DATE Status                \n",
       "2015      0         3  13.0  1.0\n",
       "          1         1   NaN  NaN\n",
       "          2         1  32.0  2.0\n",
       "2016      0         4   4.0  NaN\n",
       "          1         6   1.0  NaN\n",
       "          2        43   7.0  2.0\n",
       "2017      0         2   NaN  NaN\n",
       "          1        15  11.0  2.0\n",
       "          2         2   1.0  NaN\n",
       "2018      1        12   9.0  3.0\n",
       "2019      1         1   NaN  NaN"
      ]
     },
     "execution_count": 30,
     "metadata": {},
     "output_type": "execute_result"
    }
   ],
   "source": [
    "#number of denied/approved entries per year\n",
    "status_by_year = pd.DataFrame()\n",
    "counter = 0\n",
    "for frame in frames:\n",
    "    status_by_year[counter] = frame.groupby([frame['APP. DATE'].dt.strftime('%Y'), 'Status']).size()\n",
    "    counter += 1\n",
    "\n",
    "status_by_year.columns = ['PMI', 'BAT', 'JTI']\n",
    "status_by_year"
   ]
  },
  {
   "cell_type": "markdown",
   "metadata": {},
   "source": [
    "Most trademarks from 2017 and all trademarks from 2018 & 2019 are in process."
   ]
  },
  {
   "cell_type": "code",
   "execution_count": 31,
   "metadata": {
    "scrolled": true
   },
   "outputs": [
    {
     "data": {
      "text/html": [
       "<div>\n",
       "<style>\n",
       "    .dataframe thead tr:only-child th {\n",
       "        text-align: right;\n",
       "    }\n",
       "\n",
       "    .dataframe thead th {\n",
       "        text-align: left;\n",
       "    }\n",
       "\n",
       "    .dataframe tbody tr th {\n",
       "        vertical-align: top;\n",
       "    }\n",
       "</style>\n",
       "<table border=\"1\" class=\"dataframe\">\n",
       "  <thead>\n",
       "    <tr style=\"text-align: right;\">\n",
       "      <th></th>\n",
       "      <th>PMI</th>\n",
       "      <th>%</th>\n",
       "      <th>BAT</th>\n",
       "      <th>%</th>\n",
       "      <th>JTI</th>\n",
       "      <th>%</th>\n",
       "    </tr>\n",
       "    <tr>\n",
       "      <th>TM COLOR</th>\n",
       "      <th></th>\n",
       "      <th></th>\n",
       "      <th></th>\n",
       "      <th></th>\n",
       "      <th></th>\n",
       "      <th></th>\n",
       "    </tr>\n",
       "  </thead>\n",
       "  <tbody>\n",
       "    <tr>\n",
       "      <th>0</th>\n",
       "      <td>67</td>\n",
       "      <td>74.44</td>\n",
       "      <td>48</td>\n",
       "      <td>60.76</td>\n",
       "      <td>7</td>\n",
       "      <td>70.0</td>\n",
       "    </tr>\n",
       "    <tr>\n",
       "      <th>1</th>\n",
       "      <td>23</td>\n",
       "      <td>25.56</td>\n",
       "      <td>31</td>\n",
       "      <td>39.24</td>\n",
       "      <td>3</td>\n",
       "      <td>30.0</td>\n",
       "    </tr>\n",
       "  </tbody>\n",
       "</table>\n",
       "</div>"
      ],
      "text/plain": [
       "          PMI      %  BAT      %  JTI     %\n",
       "TM COLOR                                   \n",
       "0          67  74.44   48  60.76    7  70.0\n",
       "1          23  25.56   31  39.24    3  30.0"
      ]
     },
     "execution_count": 31,
     "metadata": {},
     "output_type": "execute_result"
    }
   ],
   "source": [
    "#check TM color\n",
    "TMCol = pd.DataFrame()\n",
    "counter = 0\n",
    "for frame in frames:\n",
    "    TMCol[counter] = frame.groupby('TM COLOR')['TRADE MARK'].count()\n",
    "    TMCol[counter + 1] = round(TMCol[counter]/len(frame) * 100, 2)\n",
    "    counter += 2\n",
    "    \n",
    "TMCol.columns = ['PMI', '%', 'BAT', '%', 'JTI', '%']\n",
    "TMCol"
   ]
  },
  {
   "cell_type": "code",
   "execution_count": 42,
   "metadata": {},
   "outputs": [
    {
     "data": {
      "text/plain": [
       "TM COLOR\n",
       "0    965\n",
       "1    317\n",
       "Name: TRADE MARK, dtype: int64"
      ]
     },
     "execution_count": 42,
     "metadata": {},
     "output_type": "execute_result"
    }
   ],
   "source": [
    "#color for the 'all' dataset\n",
    "col = pd.DataFrame()\n",
    "col = df.groupby('TM COLOR')['TRADE MARK'].count()\n",
    "col"
   ]
  },
  {
   "cell_type": "code",
   "execution_count": null,
   "metadata": {
    "collapsed": true
   },
   "outputs": [],
   "source": []
  }
 ],
 "metadata": {
  "kernelspec": {
   "display_name": "Python 3",
   "language": "python",
   "name": "python3"
  },
  "language_info": {
   "codemirror_mode": {
    "name": "ipython",
    "version": 3
   },
   "file_extension": ".py",
   "mimetype": "text/x-python",
   "name": "python",
   "nbconvert_exporter": "python",
   "pygments_lexer": "ipython3",
   "version": "3.6.7"
  }
 },
 "nbformat": 4,
 "nbformat_minor": 2
}
