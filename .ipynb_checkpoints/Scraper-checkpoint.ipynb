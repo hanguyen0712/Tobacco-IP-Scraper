{
 "cells": [
  {
   "cell_type": "code",
   "execution_count": 58,
   "metadata": {},
   "outputs": [],
   "source": [
    "#import libraries\n",
    "import pandas as pd\n",
    "import numpy as np\n",
    "import requests\n",
    "from bs4 import BeautifulSoup\n",
    "import json\n",
    "from pandas.io.json import json_normalize\n",
    "import http.cookiejar as jar\n",
    "import urllib.request as urlreq"
   ]
  },
  {
   "cell_type": "code",
   "execution_count": null,
   "metadata": {},
   "outputs": [],
   "source": [
    "#scrape information \n",
    "headers = requests.utils.default_headers()\n",
    "headers.update({'User-Agent': 'Mozilla/5.0 (X11; Ubuntu; Linux x86_64; rv:52.0) Gecko/20100101 Firefox/52.0'})\n",
    "cookies = {'HIM_on_off':'0', 'HIM_method':'0', 'HIM_ckspell':'1', 'HIM_daucu': '1', 'QueryValue':'AND%24AND%24AND%24%7C%24%24%24%7CNC%24AD%24GS%24%7C%3D%24%3E%3D%24%3D%24%7C34%2401/01/2015%24%22thu%u1ED1c%20l%E1%20%u0111i%u1EBFu%22%24%7C%24%24%24%7C', 'QueryValue1':'%20%24AND%24AND%24AND%24%7C%24%24%24%24%7CTN%24NC%24AD%24GS%24%7C%3D%24%3D%24%3E%3D%24%3D%24%7C%2434%2401/01/2015%24%22thu%u1ED1c%20l%E1%20%u0111i%u1EBFu%22%24%7C%24%24%24%24%7C', '__utmz':'71677259.1560947615.1.1.utmcsr=(direct)|utmccn=(direct)|utmcmd=(none)', 'D0N':'31f1330d125a7768df1418554cd05aa6', 'PHPSESSID':'47c88fddf31534b2f3d96d440659db4f', '__utmc':'71677259', '__utma':'71677259.1625309631.1560947615.1561605831.1561608127.8', '__utmz': '71677259.1560947615.1.1.utmcsr=(direct)|utmccn=(direct)|utmcmd=(none)', '__utmb':'71677259.9.10.1561608127', '__utmt':'1'}\n",
    "for i in range(1, 1283):\n",
    "    web = requests.get(\"http://iplib.noip.gov.vn/WebUI/WDetail.php?intRecNum={}\".format(i), cookies = cookies, headers = headers).text\n",
    "    soup = BeautifulSoup(web, 'html.parser')\n",
    "    forms = soup.find_all('form')\n",
    "    print(forms[1].prettify())"
   ]
  },
  {
   "cell_type": "code",
   "execution_count": null,
   "metadata": {
    "collapsed": true
   },
   "outputs": [],
   "source": []
  }
 ],
 "metadata": {
  "kernelspec": {
   "display_name": "Python 3",
   "language": "python",
   "name": "python3"
  },
  "language_info": {
   "codemirror_mode": {
    "name": "ipython",
    "version": 3
   },
   "file_extension": ".py",
   "mimetype": "text/x-python",
   "name": "python",
   "nbconvert_exporter": "python",
   "pygments_lexer": "ipython3",
   "version": "3.6.7"
  }
 },
 "nbformat": 4,
 "nbformat_minor": 2
}
