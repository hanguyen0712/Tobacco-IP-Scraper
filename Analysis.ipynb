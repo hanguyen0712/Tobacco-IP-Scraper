{
 "cells": [
  {
   "cell_type": "code",
   "execution_count": 146,
   "metadata": {
    "collapsed": true
   },
   "outputs": [],
   "source": [
    "import pandas as pd\n",
    "import numpy as np\n",
    "import matplotlib as mpl\n",
    "from matplotlib import pyplot as plt\n",
    "import seaborn\n",
    "from datetime import datetime"
   ]
  },
  {
   "cell_type": "markdown",
   "metadata": {},
   "source": [
    "## Summary statistics for all the data we have "
   ]
  },
  {
   "cell_type": "code",
   "execution_count": 147,
   "metadata": {},
   "outputs": [
    {
     "data": {
      "text/html": [
       "<div>\n",
       "<style>\n",
       "    .dataframe thead tr:only-child th {\n",
       "        text-align: right;\n",
       "    }\n",
       "\n",
       "    .dataframe thead th {\n",
       "        text-align: left;\n",
       "    }\n",
       "\n",
       "    .dataframe tbody tr th {\n",
       "        vertical-align: top;\n",
       "    }\n",
       "</style>\n",
       "<table border=\"1\" class=\"dataframe\">\n",
       "  <thead>\n",
       "    <tr style=\"text-align: right;\">\n",
       "      <th></th>\n",
       "      <th>APP. NUMBER</th>\n",
       "      <th>APP. DATE</th>\n",
       "      <th>TRADE MARK</th>\n",
       "      <th>TM TYPE</th>\n",
       "      <th>TM COLOR</th>\n",
       "      <th>GOODS / SERVICES</th>\n",
       "      <th>APPLICANT / RIGHT HOLDER</th>\n",
       "      <th>CHUKAN CODE</th>\n",
       "      <th>Image</th>\n",
       "    </tr>\n",
       "  </thead>\n",
       "  <tbody>\n",
       "    <tr>\n",
       "      <th>0</th>\n",
       "      <td>4-2015-00658</td>\n",
       "      <td>2015-01-12</td>\n",
       "      <td>Malimbo</td>\n",
       "      <td>Normal</td>\n",
       "      <td>0</td>\n",
       "      <td>34 Thuốc lá điếu.</td>\n",
       "      <td>Công ty trách nhiệm hữu hạn Hưng Hiệp Phát</td>\n",
       "      <td>(10/02/2015) 221: Notification for Acceptance ...</td>\n",
       "      <td>http://iplib.noip.gov.vn//IPDLIMG/20151/313383...</td>\n",
       "    </tr>\n",
       "    <tr>\n",
       "      <th>1</th>\n",
       "      <td>4-2015-00659</td>\n",
       "      <td>2015-01-12</td>\n",
       "      <td>Yunyan</td>\n",
       "      <td>Normal</td>\n",
       "      <td>0</td>\n",
       "      <td>34 Thuốc lá điếu.</td>\n",
       "      <td>Công ty trách nhiệm hữu hạn Hưng Hiệp Phát</td>\n",
       "      <td>(10/02/2015) 221: Notification for Acceptance ...</td>\n",
       "      <td>http://iplib.noip.gov.vn//IPDLIMG/20151/313383...</td>\n",
       "    </tr>\n",
       "    <tr>\n",
       "      <th>2</th>\n",
       "      <td>4-2015-00660</td>\n",
       "      <td>2015-01-12</td>\n",
       "      <td>GOLD MONT</td>\n",
       "      <td>Normal</td>\n",
       "      <td>0</td>\n",
       "      <td>34 Thuốc lá điếu.</td>\n",
       "      <td>Công ty trách nhiệm hữu hạn Hưng Hiệp Phát</td>\n",
       "      <td>(06/02/2015) 221: Notification for Acceptance ...</td>\n",
       "      <td>http://iplib.noip.gov.vn//IPDLIMG/20151/313383...</td>\n",
       "    </tr>\n",
       "    <tr>\n",
       "      <th>3</th>\n",
       "      <td>4-2015-00958</td>\n",
       "      <td>2015-01-14</td>\n",
       "      <td>DIRECTOR</td>\n",
       "      <td>Normal</td>\n",
       "      <td>0</td>\n",
       "      <td>34 Thuốc lá điếu.</td>\n",
       "      <td>Công ty trách nhiệm hữu hạn một thành viên thu...</td>\n",
       "      <td>(28/02/2015) 221: Notification for Acceptance ...</td>\n",
       "      <td>http://iplib.noip.gov.vn//IPDLIMG/20151/313801...</td>\n",
       "    </tr>\n",
       "    <tr>\n",
       "      <th>4</th>\n",
       "      <td>4-2015-01030</td>\n",
       "      <td>2015-01-14</td>\n",
       "      <td>Hình</td>\n",
       "      <td>Normal</td>\n",
       "      <td>0</td>\n",
       "      <td>16 Giấy [văn phòng phẩm], bìa cứng [văn phòng ...</td>\n",
       "      <td>MEDI plus TEC Medizinisch-technische Handelsge...</td>\n",
       "      <td>(06/04/2015) 221: Notification for Acceptance ...</td>\n",
       "      <td>http://iplib.noip.gov.vn//IPDLIMG/20151/313594...</td>\n",
       "    </tr>\n",
       "  </tbody>\n",
       "</table>\n",
       "</div>"
      ],
      "text/plain": [
       "    APP. NUMBER  APP. DATE TRADE MARK TM TYPE  TM COLOR  \\\n",
       "0  4-2015-00658 2015-01-12    Malimbo  Normal         0   \n",
       "1  4-2015-00659 2015-01-12     Yunyan  Normal         0   \n",
       "2  4-2015-00660 2015-01-12  GOLD MONT  Normal         0   \n",
       "3  4-2015-00958 2015-01-14   DIRECTOR  Normal         0   \n",
       "4  4-2015-01030 2015-01-14       Hình  Normal         0   \n",
       "\n",
       "                                    GOODS / SERVICES  \\\n",
       "0                                  34 Thuốc lá điếu.   \n",
       "1                                  34 Thuốc lá điếu.   \n",
       "2                                  34 Thuốc lá điếu.   \n",
       "3                                  34 Thuốc lá điếu.   \n",
       "4  16 Giấy [văn phòng phẩm], bìa cứng [văn phòng ...   \n",
       "\n",
       "                            APPLICANT / RIGHT HOLDER  \\\n",
       "0         Công ty trách nhiệm hữu hạn Hưng Hiệp Phát   \n",
       "1         Công ty trách nhiệm hữu hạn Hưng Hiệp Phát   \n",
       "2         Công ty trách nhiệm hữu hạn Hưng Hiệp Phát   \n",
       "3  Công ty trách nhiệm hữu hạn một thành viên thu...   \n",
       "4  MEDI plus TEC Medizinisch-technische Handelsge...   \n",
       "\n",
       "                                         CHUKAN CODE  \\\n",
       "0  (10/02/2015) 221: Notification for Acceptance ...   \n",
       "1  (10/02/2015) 221: Notification for Acceptance ...   \n",
       "2  (06/02/2015) 221: Notification for Acceptance ...   \n",
       "3  (28/02/2015) 221: Notification for Acceptance ...   \n",
       "4  (06/04/2015) 221: Notification for Acceptance ...   \n",
       "\n",
       "                                               Image  \n",
       "0  http://iplib.noip.gov.vn//IPDLIMG/20151/313383...  \n",
       "1  http://iplib.noip.gov.vn//IPDLIMG/20151/313383...  \n",
       "2  http://iplib.noip.gov.vn//IPDLIMG/20151/313383...  \n",
       "3  http://iplib.noip.gov.vn//IPDLIMG/20151/313801...  \n",
       "4  http://iplib.noip.gov.vn//IPDLIMG/20151/313594...  "
      ]
     },
     "execution_count": 147,
     "metadata": {},
     "output_type": "execute_result"
    }
   ],
   "source": [
    "#read the big dataframe\n",
    "df = pd.read_excel('Everything_no_macro.xlsx', 0)\n",
    "df.head()"
   ]
  },
  {
   "cell_type": "code",
   "execution_count": 148,
   "metadata": {
    "collapsed": true
   },
   "outputs": [],
   "source": [
    "#convert the app date to datetime format (for ease of grouping and graphing)\n",
    "df['APP. DATE'] = pd.to_datetime(df['APP. DATE'])"
   ]
  },
  {
   "cell_type": "code",
   "execution_count": 164,
   "metadata": {
    "scrolled": false
   },
   "outputs": [
    {
     "data": {
      "text/plain": [
       "APP. DATE\n",
       "2015    224\n",
       "2016    225\n",
       "2017    383\n",
       "2018    410\n",
       "2019     40\n",
       "Name: TRADE MARK, dtype: int64"
      ]
     },
     "execution_count": 164,
     "metadata": {},
     "output_type": "execute_result"
    }
   ],
   "source": [
    "#total number of entries in each year\n",
    "sumall = df.groupby(df['APP. DATE'].dt.strftime('%Y'))['TRADE MARK'].count()\n",
    "sumall"
   ]
  },
  {
   "cell_type": "markdown",
   "metadata": {},
   "source": [
    "#### Comment:<br>\n",
    "Overall, the total number of entries increased throughout the years from 2015 to 2018. 2019 has not ended yet, so we cannot say anything about this year."
   ]
  },
  {
   "cell_type": "code",
   "execution_count": 150,
   "metadata": {},
   "outputs": [
    {
     "data": {
      "image/png": "[encoded data removed]",
      "text/plain": [
       "<Figure size 576x396 with 1 Axes>"
      ]
     },
     "metadata": {},
     "output_type": "display_data"
    }
   ],
   "source": [
    "#plot the number of entries in each month\n",
    "dg = df.groupby(pd.Grouper(key='APP. DATE', freq='1M')).sum() # groupby each 1 month\n",
    "dg.index = dg.index.strftime('%b %y')\n",
    "dg.columns = ['Count']\n",
    "dg['Count'].plot(kind = 'bar')\n",
    "plt.ylabel('Number of entries')\n",
    "plt.xlabel('Month')\n",
    "plt.title('Number of cigarette-related trademarks by month')\n",
    "plt.show()"
   ]
  },
  {
   "cell_type": "markdown",
   "metadata": {},
   "source": [
    "## Summary statistics for BAT"
   ]
  },
  {
   "cell_type": "code",
   "execution_count": 151,
   "metadata": {
    "scrolled": true
   },
   "outputs": [
    {
     "data": {
      "text/html": [
       "<div>\n",
       "<style>\n",
       "    .dataframe thead tr:only-child th {\n",
       "        text-align: right;\n",
       "    }\n",
       "\n",
       "    .dataframe thead th {\n",
       "        text-align: left;\n",
       "    }\n",
       "\n",
       "    .dataframe tbody tr th {\n",
       "        vertical-align: top;\n",
       "    }\n",
       "</style>\n",
       "<table border=\"1\" class=\"dataframe\">\n",
       "  <thead>\n",
       "    <tr style=\"text-align: right;\">\n",
       "      <th></th>\n",
       "      <th>APP. NUMBER</th>\n",
       "      <th>APPLICANT / RIGHT HOLDER</th>\n",
       "      <th>APP. DATE</th>\n",
       "      <th>TRADE MARK</th>\n",
       "      <th>TM TYPE</th>\n",
       "      <th>TM COLOR</th>\n",
       "      <th>GOODS / SERVICES</th>\n",
       "      <th>Product Type (1=cigarette; 2=HTP; 3=ENDS; 4=other (eg accessory)</th>\n",
       "      <th>CHUKAN CODE</th>\n",
       "      <th>Status (0=denied; 1=pending; 2=approved/granted)</th>\n",
       "      <th>Image link</th>\n",
       "      <th>Picture</th>\n",
       "    </tr>\n",
       "  </thead>\n",
       "  <tbody>\n",
       "    <tr>\n",
       "      <th>0</th>\n",
       "      <td>4-2015-02508</td>\n",
       "      <td>British American Tobacco (Brands) Inc.</td>\n",
       "      <td>29/01/2015</td>\n",
       "      <td>nano CARBON, Pictorial</td>\n",
       "      <td>Normal</td>\n",
       "      <td>0</td>\n",
       "      <td>34 Cigarettes; tobacco; tobacco products, spec...</td>\n",
       "      <td>NaN</td>\n",
       "      <td>(15/04/2015) 221: Notification for Acceptance ...</td>\n",
       "      <td>0</td>\n",
       "      <td>http://iplib.noip.gov.vn//IPDLIMG/20151/314970...</td>\n",
       "      <td>NaN</td>\n",
       "    </tr>\n",
       "    <tr>\n",
       "      <th>1</th>\n",
       "      <td>4-2015-04880</td>\n",
       "      <td>CTBAT International Co. Limited</td>\n",
       "      <td>06/03/2015</td>\n",
       "      <td>STATE EXPRESS SINCE 1896 VIRGINIA NO.555 Alber...</td>\n",
       "      <td>Normal</td>\n",
       "      <td>1</td>\n",
       "      <td>34 Cigarettes; tobacco; tobacco products, spec...</td>\n",
       "      <td>NaN</td>\n",
       "      <td>(15/06/2015) 221: Notification for Acceptance ...</td>\n",
       "      <td>2</td>\n",
       "      <td>http://iplib.noip.gov.vn//IPDLIMG/20151/324210...</td>\n",
       "      <td>NaN</td>\n",
       "    </tr>\n",
       "    <tr>\n",
       "      <th>2</th>\n",
       "      <td>4-2015-04881</td>\n",
       "      <td>CTBAT International Co. Limited</td>\n",
       "      <td>06/03/2015</td>\n",
       "      <td>STATE EXPRESS SINCE 1896 VIRGINIA TOBACCO NO. ...</td>\n",
       "      <td>Normal</td>\n",
       "      <td>1</td>\n",
       "      <td>34 Cigarettes; tobacco; tobacco products, spec...</td>\n",
       "      <td>NaN</td>\n",
       "      <td>(19/06/2015) 221: Notification for Acceptance ...</td>\n",
       "      <td>2</td>\n",
       "      <td>http://iplib.noip.gov.vn//IPDLIMG/20151/325645...</td>\n",
       "      <td>NaN</td>\n",
       "    </tr>\n",
       "    <tr>\n",
       "      <th>3</th>\n",
       "      <td>4-2015-04882</td>\n",
       "      <td>CTBAT International Co. Limited</td>\n",
       "      <td>06/03/2015</td>\n",
       "      <td>BLEND NO. 555 GOLD</td>\n",
       "      <td>Normal</td>\n",
       "      <td>0</td>\n",
       "      <td>34 Cigarettes; tobacco; tobacco products, spec...</td>\n",
       "      <td>NaN</td>\n",
       "      <td>(06/05/2015) 221: Notification for Acceptance ...</td>\n",
       "      <td>2</td>\n",
       "      <td>http://iplib.noip.gov.vn//IPDLIMG/20151/317695...</td>\n",
       "      <td>NaN</td>\n",
       "    </tr>\n",
       "    <tr>\n",
       "      <th>4</th>\n",
       "      <td>4-2015-04883</td>\n",
       "      <td>CTBAT International Co. Limited</td>\n",
       "      <td>06/03/2015</td>\n",
       "      <td>BLEND NO.555 SILVER</td>\n",
       "      <td>Normal</td>\n",
       "      <td>0</td>\n",
       "      <td>34 Cigarettes; tobacco; tobacco products, spec...</td>\n",
       "      <td>NaN</td>\n",
       "      <td>(20/04/2015) 221: Notification for Acceptance ...</td>\n",
       "      <td>2</td>\n",
       "      <td>http://iplib.noip.gov.vn//IPDLIMG/20151/317696...</td>\n",
       "      <td>NaN</td>\n",
       "    </tr>\n",
       "  </tbody>\n",
       "</table>\n",
       "</div>"
      ],
      "text/plain": [
       "    APP. NUMBER                APPLICANT / RIGHT HOLDER   APP. DATE  \\\n",
       "0  4-2015-02508  British American Tobacco (Brands) Inc.  29/01/2015   \n",
       "1  4-2015-04880         CTBAT International Co. Limited  06/03/2015   \n",
       "2  4-2015-04881         CTBAT International Co. Limited  06/03/2015   \n",
       "3  4-2015-04882         CTBAT International Co. Limited  06/03/2015   \n",
       "4  4-2015-04883         CTBAT International Co. Limited  06/03/2015   \n",
       "\n",
       "                                          TRADE MARK TM TYPE  TM COLOR  \\\n",
       "0                             nano CARBON, Pictorial  Normal         0   \n",
       "1  STATE EXPRESS SINCE 1896 VIRGINIA NO.555 Alber...  Normal         1   \n",
       "2  STATE EXPRESS SINCE 1896 VIRGINIA TOBACCO NO. ...  Normal         1   \n",
       "3                                 BLEND NO. 555 GOLD  Normal         0   \n",
       "4                                BLEND NO.555 SILVER  Normal         0   \n",
       "\n",
       "                                    GOODS / SERVICES  \\\n",
       "0  34 Cigarettes; tobacco; tobacco products, spec...   \n",
       "1  34 Cigarettes; tobacco; tobacco products, spec...   \n",
       "2  34 Cigarettes; tobacco; tobacco products, spec...   \n",
       "3  34 Cigarettes; tobacco; tobacco products, spec...   \n",
       "4  34 Cigarettes; tobacco; tobacco products, spec...   \n",
       "\n",
       "   Product Type (1=cigarette; 2=HTP; 3=ENDS; 4=other (eg accessory)  \\\n",
       "0                                                NaN                  \n",
       "1                                                NaN                  \n",
       "2                                                NaN                  \n",
       "3                                                NaN                  \n",
       "4                                                NaN                  \n",
       "\n",
       "                                         CHUKAN CODE  \\\n",
       "0  (15/04/2015) 221: Notification for Acceptance ...   \n",
       "1  (15/06/2015) 221: Notification for Acceptance ...   \n",
       "2  (19/06/2015) 221: Notification for Acceptance ...   \n",
       "3  (06/05/2015) 221: Notification for Acceptance ...   \n",
       "4  (20/04/2015) 221: Notification for Acceptance ...   \n",
       "\n",
       "   Status (0=denied; 1=pending; 2=approved/granted)  \\\n",
       "0                                                 0   \n",
       "1                                                 2   \n",
       "2                                                 2   \n",
       "3                                                 2   \n",
       "4                                                 2   \n",
       "\n",
       "                                          Image link  Picture  \n",
       "0  http://iplib.noip.gov.vn//IPDLIMG/20151/314970...      NaN  \n",
       "1  http://iplib.noip.gov.vn//IPDLIMG/20151/324210...      NaN  \n",
       "2  http://iplib.noip.gov.vn//IPDLIMG/20151/325645...      NaN  \n",
       "3  http://iplib.noip.gov.vn//IPDLIMG/20151/317695...      NaN  \n",
       "4  http://iplib.noip.gov.vn//IPDLIMG/20151/317696...      NaN  "
      ]
     },
     "execution_count": 151,
     "metadata": {},
     "output_type": "execute_result"
    }
   ],
   "source": [
    "#read the BAT dataframe\n",
    "bat = pd.read_excel('Data Table Filled_030719_with_image.xlsx', 0)\n",
    "bat.head()"
   ]
  },
  {
   "cell_type": "code",
   "execution_count": 162,
   "metadata": {
    "collapsed": true
   },
   "outputs": [],
   "source": [
    "#convert the app date to datetime format (for ease of grouping and graphing)\n",
    "bat['APP. DATE'] = pd.to_datetime(bat['APP. DATE'])"
   ]
  },
  {
   "cell_type": "code",
   "execution_count": 153,
   "metadata": {},
   "outputs": [
    {
     "name": "stdout",
     "output_type": "stream",
     "text": [
      "There were 79 BAT/CTBAT trademarks from 2015 to 2019, which accounted for accounted for 6.16% of all cigarette-related trademarks\n"
     ]
    }
   ],
   "source": [
    "#percentage of BAT/CTBAT entries with regard to the total number of cigarette-related entries\n",
    "print(f'There were {len(bat)} BAT/CTBAT trademarks from 2015 to 2019, which accounted for accounted for {round(len(bat)/len(df), 4)*100}% of all cigarette-related trademarks')"
   ]
  },
  {
   "cell_type": "code",
   "execution_count": 165,
   "metadata": {
    "scrolled": true
   },
   "outputs": [
    {
     "data": {
      "text/plain": [
       "APP. DATE\n",
       "2015    45\n",
       "2016    12\n",
       "2017    12\n",
       "2018    10\n",
       "Name: TRADE MARK, dtype: int64"
      ]
     },
     "execution_count": 165,
     "metadata": {},
     "output_type": "execute_result"
    }
   ],
   "source": [
    "#total number of entries in each year\n",
    "sumbat = bat.groupby(bat['APP. DATE'].dt.strftime('%Y'))['TRADE MARK'].count()\n",
    "sumbat"
   ]
  },
  {
   "cell_type": "markdown",
   "metadata": {},
   "source": [
    "The number of BAT/CTBAT entries was the highest in 2015.<br>\n",
    "In the next three years, the number of entries dropped significantly (around 75%), reaching a bottom of 10 in 2018.<br>\n",
    "There has not been any entry in 2019 yet."
   ]
  },
  {
   "cell_type": "code",
   "execution_count": 155,
   "metadata": {},
   "outputs": [
    {
     "name": "stdout",
     "output_type": "stream",
     "text": [
      "In 2015, BAT/CTBAT trademarks accounted for 20.1% of all cigarette-related trademarks.\n",
      "In 2016, BAT/CTBAT trademarks accounted for 5.3% of all cigarette-related trademarks.\n",
      "In 2017, BAT/CTBAT trademarks accounted for 3.1% of all cigarette-related trademarks.\n",
      "In 2018, BAT/CTBAT trademarks accounted for 2.4% of all cigarette-related trademarks.\n"
     ]
    }
   ],
   "source": [
    "#percentage of BAT/CTBAT entries with regard to the total number of cigarette-related entries each year\n",
    "for i in range(0, len(sumbat)):\n",
    "    percent = round(sumbat[i]/sumall[i], 3)*100\n",
    "    print(f'In 201{i + 5}, BAT/CTBAT trademarks accounted for {percent}% of all cigarette-related trademarks.')"
   ]
  },
  {
   "cell_type": "code",
   "execution_count": 156,
   "metadata": {},
   "outputs": [
    {
     "data": {
      "image/png": "[encoded data removed]",
      "text/plain": [
       "<Figure size 576x396 with 1 Axes>"
      ]
     },
     "metadata": {},
     "output_type": "display_data"
    }
   ],
   "source": [
    "#plot the number of entries in each month\n",
    "batgroup = bat.groupby(pd.Grouper(key='APP. DATE', freq='1M')).count() # groupby each 1 month\n",
    "batgroup.index = batgroup.index.strftime('%b %y')\n",
    "batgroup['APP. NUMBER'].plot(kind = 'bar')\n",
    "plt.ylabel('Number of entries')\n",
    "plt.xlabel('Month')\n",
    "plt.title('Number of BAT/CTBAT trademarks by month')\n",
    "plt.show()"
   ]
  },
  {
   "cell_type": "code",
   "execution_count": 160,
   "metadata": {},
   "outputs": [
    {
     "data": {
      "text/plain": [
       "APPLICANT / RIGHT HOLDER\n",
       "British American Tobacco (Brands) Inc.                                               32\n",
       "British American Tobacco (Brands) Limited                                            27\n",
       "British American Tobacco (Germany) GmbH / British American Tobacco (Germany) GmbH     1\n",
       "CTBAT International Co. Limited                                                      19\n",
       "Name: APPLICANT / RIGHT HOLDER, dtype: int64"
      ]
     },
     "execution_count": 160,
     "metadata": {},
     "output_type": "execute_result"
    }
   ],
   "source": [
    "#number of trademark from each BAT/CTBAT branch\n",
    "#bat['APPLICANT / RIGHT HOLDER'].unique().count_values()\n",
    "bat.groupby('APPLICANT / RIGHT HOLDER')['APPLICANT / RIGHT HOLDER'].count()"
   ]
  },
  {
   "cell_type": "code",
   "execution_count": 159,
   "metadata": {},
   "outputs": [
    {
     "data": {
      "text/plain": [
       "Status (0=denied; 1=pending; 2=approved/granted)\n",
       "0    18\n",
       "1    21\n",
       "2    40\n",
       "Name: TRADE MARK, dtype: int64"
      ]
     },
     "execution_count": 159,
     "metadata": {},
     "output_type": "execute_result"
    }
   ],
   "source": [
    "#number of total denied/approved entries\n",
    "bat.groupby('Status (0=denied; 1=pending; 2=approved/granted)')['TRADE MARK'].count()"
   ]
  },
  {
   "cell_type": "code",
   "execution_count": 166,
   "metadata": {},
   "outputs": [
    {
     "data": {
      "text/plain": [
       "APP. DATE  Status (0=denied; 1=pending; 2=approved/granted)\n",
       "2015       0                                                   13\n",
       "           2                                                   32\n",
       "2016       0                                                    4\n",
       "           1                                                    1\n",
       "           2                                                    7\n",
       "2017       1                                                   11\n",
       "           2                                                    1\n",
       "2018       0                                                    1\n",
       "           1                                                    9\n",
       "dtype: int64"
      ]
     },
     "execution_count": 166,
     "metadata": {},
     "output_type": "execute_result"
    }
   ],
   "source": [
    "#number of denied/approved entries per year\n",
    "bat.groupby([bat['APP. DATE'].dt.strftime('%Y'), 'Status (0=denied; 1=pending; 2=approved/granted)']).size()"
   ]
  },
  {
   "cell_type": "markdown",
   "metadata": {
    "collapsed": true
   },
   "source": [
    "## Summary statistic for PMI"
   ]
  },
  {
   "cell_type": "code",
   "execution_count": null,
   "metadata": {
    "collapsed": true
   },
   "outputs": [],
   "source": []
  }
 ],
 "metadata": {
  "kernelspec": {
   "display_name": "Python 3",
   "language": "python",
   "name": "python3"
  },
  "language_info": {
   "codemirror_mode": {
    "name": "ipython",
    "version": 3
   },
   "file_extension": ".py",
   "mimetype": "text/x-python",
   "name": "python",
   "nbconvert_exporter": "python",
   "pygments_lexer": "ipython3",
   "version": "3.6.7"
  }
 },
 "nbformat": 4,
 "nbformat_minor": 2
}
