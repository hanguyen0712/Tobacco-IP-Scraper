{
 "cells": [
  {
   "cell_type": "code",
   "execution_count": 14,
   "metadata": {},
   "outputs": [],
   "source": [
    "#import libraries\n",
    "import pandas as pd\n",
    "import numpy as np\n",
    "import requests\n",
    "from bs4 import BeautifulSoup\n",
    "import json\n",
    "from pandas.io.json import json_normalize\n",
    "import http.cookiejar as jar\n",
    "import urllib.request as urlreq"
   ]
  },
  {
   "cell_type": "code",
   "execution_count": 35,
   "metadata": {},
   "outputs": [
    {
     "name": "stdout",
     "output_type": "stream",
     "text": [
      "<html><head></head><body><script>document.cookie=\"D0N=946f8e49af9be336782289b883d5a5e5\"+\"; path=/\";window.location.reload(true);</script></body></html>\n"
     ]
    }
   ],
   "source": [
    "#scrape information \n",
    "#headers = requests.utils.default_headers()\n",
    "#headers.update({'User-Agent': 'Mozilla/5.0 (X11; Ubuntu; Linux x86_64; rv:52.0) Gecko/20100101 Firefox/52.0'})\n",
    "cookies = {'HIM_on_off':'0', 'HIM_method':'0', 'HIM_ckspell':'1', 'HIM_daucu': '1', 'QueryValue':'AND%24AND%24AND%24%7C%24%24%24%7CNC%24AD%24GS%24%7C%3D%24%3E%3D%24%3D%24%7C34%2401/01/2015%24%22thu%u1ED1c%20l%E1%20%u0111i%u1EBFu%22%24%7C%24%24%24%7C', 'QueryValue1':'%20%24AND%24AND%24AND%24%7C%24%24%24%24%7CTN%24NC%24AD%24GS%24%7C%3D%24%3D%24%3E%3D%24%3D%24%7C%2434%2401/01/2015%24%22thu%u1ED1c%20l%E1%20%u0111i%u1EBFu%22%24%7C%24%24%24%24%7C', '__utmz':'71677259.1560947615.1.1.utmcsr=(direct)|utmccn=(direct)|utmcmd=(none)', 'D0N':'04c3a64847143b071ac0e162e8643393', 'PHPSESSID':'47c88fddf31534b2f3d96d440659db4f', '__utmc':'71677259', '__utma':'71677259.1625309631.1560947615.1561605831.1561608127.8', '__utmt': '1', '__utmb':'71677259.9.10.1561608127'}\n",
    "params = {'TM Name':'', 'Nice classification':'34', 'Application Date':'01/01/2015', 'Goods and Services':'\"thuốc lá điếu'}\n",
    "web = requests.post(\"http://iplib.noip.gov.vn/WebUI/WHitList.php\", data = params, cookies = cookies).text\n",
    "soup = BeautifulSoup(web, 'html5lib')\n",
    "print(soup)"
   ]
  },
  {
   "cell_type": "code",
   "execution_count": null,
   "metadata": {
    "collapsed": true
   },
   "outputs": [],
   "source": []
  }
 ],
 "metadata": {
  "kernelspec": {
   "display_name": "Python 3",
   "language": "python",
   "name": "python3"
  },
  "language_info": {
   "codemirror_mode": {
    "name": "ipython",
    "version": 3
   },
   "file_extension": ".py",
   "mimetype": "text/x-python",
   "name": "python",
   "nbconvert_exporter": "python",
   "pygments_lexer": "ipython3",
   "version": "3.6.7"
  }
 },
 "nbformat": 4,
 "nbformat_minor": 2
}
